{
 "cells": [
  {
   "cell_type": "markdown",
   "metadata": {},
   "source": [
    "**Necessary Libraries**"
   ]
  },
  {
   "cell_type": "code",
   "execution_count": 13,
   "metadata": {},
   "outputs": [],
   "source": [
    "from bs4 import BeautifulSoup\n",
    "import requests\n",
    "import pandas as pd\n",
    "import selenium as sl\n",
    "import numpy as np"
   ]
  },
  {
   "cell_type": "markdown",
   "metadata": {},
   "source": [
    "**URLs and tables**"
   ]
  },
  {
   "cell_type": "code",
   "execution_count": 3,
   "metadata": {},
   "outputs": [],
   "source": [
    "url = 'https://en.wikipedia.org/wiki/List_of_serial_killers_active_in_the_2020s'\n",
    "page = requests.get(url)\n",
    "soup = BeautifulSoup(page.text, 'lxml')\n",
    "#print(soup.prettify())"
   ]
  },
  {
   "cell_type": "code",
   "execution_count": null,
   "metadata": {},
   "outputs": [],
   "source": [
    "data = soup.find_all('table')\n",
    "for tables in data:\n",
    "    print(tables.prettify())"
   ]
  },
  {
   "cell_type": "markdown",
   "metadata": {},
   "source": [
    "**Tables**"
   ]
  },
  {
   "cell_type": "code",
   "execution_count": null,
   "metadata": {},
   "outputs": [],
   "source": [
    "tables_all = soup.find_all('table', class_ = 'wikitable sortable')\n",
    "tables_needed = tables_all[0] #selecting only the first table\n",
    "tables_needed.prettify()\n",
    "# for t in tables_needed:     #looping through tables_needed to print out the first 5 tables\n",
    "#     print(t.prettify())"
   ]
  },
  {
   "cell_type": "code",
   "execution_count": 32,
   "metadata": {},
   "outputs": [
    {
     "name": "stdout",
     "output_type": "stream",
     "text": [
      "['Name', 'Country', 'Years active', 'Proven victims', 'Possible victims']\n"
     ]
    }
   ],
   "source": [
    "table_headers = tables_needed.find_all('th')     #table_headers type = bs4.element.ResultSet\n",
    "table_titles = [t.text.strip() for t in table_headers[:5]]\n",
    "print(table_titles)"
   ]
  },
  {
   "cell_type": "markdown",
   "metadata": {},
   "source": [
    "**Pandas Data Frame**"
   ]
  },
  {
   "cell_type": "code",
   "execution_count": 14,
   "metadata": {},
   "outputs": [
    {
     "data": {
      "text/html": [
       "<div>\n",
       "<style scoped>\n",
       "    .dataframe tbody tr th:only-of-type {\n",
       "        vertical-align: middle;\n",
       "    }\n",
       "\n",
       "    .dataframe tbody tr th {\n",
       "        vertical-align: top;\n",
       "    }\n",
       "\n",
       "    .dataframe thead th {\n",
       "        text-align: right;\n",
       "    }\n",
       "</style>\n",
       "<table border=\"1\" class=\"dataframe\">\n",
       "  <thead>\n",
       "    <tr style=\"text-align: right;\">\n",
       "      <th></th>\n",
       "      <th>Name</th>\n",
       "      <th>Country</th>\n",
       "      <th>Years active</th>\n",
       "      <th>Proven victims</th>\n",
       "      <th>Possible victims</th>\n",
       "    </tr>\n",
       "  </thead>\n",
       "  <tbody>\n",
       "  </tbody>\n",
       "</table>\n",
       "</div>"
      ],
      "text/plain": [
       "Empty DataFrame\n",
       "Columns: [Name, Country, Years active, Proven victims, Possible victims]\n",
       "Index: []"
      ]
     },
     "execution_count": 14,
     "metadata": {},
     "output_type": "execute_result"
    }
   ],
   "source": [
    "df = pd.DataFrame(columns = table_titles)"
   ]
  },
  {
   "cell_type": "code",
   "execution_count": 51,
   "metadata": {},
   "outputs": [
    {
     "name": "stdout",
     "output_type": "stream",
     "text": [
      "['Rosario Alfonso', 'Mexico', '2018–2020', '3', '4']\n",
      "['Esteban Lorenzo Duarte', 'Argentina', '2004–2020', '2', '5']\n",
      "['Kenyel Brown', 'United States', '2001–2020', '6', '6']\n",
      "['Travis Lewis', 'United States', '1996–2020', '3', '3']\n",
      "['Anil Vala', 'India', '?–2020', '2', '3']\n",
      "['Andrey Yezhov', 'Russia', '2010–2020', '7', '7']\n",
      "['Omar Santos Loera', 'Mexico', '2010–2020', '3', '3']\n",
      "['Ismael Antonio Sánchez and José Rojas', 'Argentina', '2019–2020', '3', '3']\n",
      "['Hugo Bustamante Pérez', 'Chile', '2005–2020', '3', '5']\n",
      "['Lissa María Caiza', 'Ecuador', '2020', '4', '5']\n",
      "['Karel Šťovíček', 'Czechia', '1998–2020', '3', '3']\n",
      "['Yuri Sparikhin', 'Soviet Union\\xa0Russia', '1980–2020', '4', '4']\n",
      "['Diego Ruiz Restrepo', 'Chile', '2020', '8', '15–20']\n",
      "['Harold Haulman', 'Germany\\xa0United States', '1999–2020', '3', '4']\n",
      "['Omar Fernandez Herrada', 'Bolivia', '2017–2020', '4', '4']\n",
      "['Maina Ramulu', 'India', '2003–2020', '16', '18']\n",
      "['Rustam Kiknadze', 'Kazakhstan', '2004–2020', '5', '5']\n",
      "['Nikolay Tishov', 'Russia\\xa0Spain (accused)', '2020', '1', '3']\n",
      "['Maniram Sen', 'India', '2000–2020', '5', '6']\n",
      "['Adre Baroz', 'United States', '2020', '5', '5']\n",
      "[<td>Adre Baroz\n",
      "</td>, <td><span class=\"flagicon\"><span class=\"mw-image-border\" typeof=\"mw:File\"><span><img alt=\"\" class=\"mw-file-element\" data-file-height=\"650\" data-file-width=\"1235\" decoding=\"async\" height=\"12\" src=\"//upload.wikimedia.org/wikipedia/en/thumb/a/a4/Flag_of_the_United_States.svg/23px-Flag_of_the_United_States.svg.png\" srcset=\"//upload.wikimedia.org/wikipedia/en/thumb/a/a4/Flag_of_the_United_States.svg/35px-Flag_of_the_United_States.svg.png 1.5x, //upload.wikimedia.org/wikipedia/en/thumb/a/a4/Flag_of_the_United_States.svg/46px-Flag_of_the_United_States.svg.png 2x\" width=\"23\"/></span></span> </span>United States\n",
      "</td>, <td>2020\n",
      "</td>, <td>5\n",
      "</td>, <td>5\n",
      "</td>, <td>Sentenced to five consecutive life sentences plus 140 years\n",
      "</td>, <td>Murdered five people in seven weeks in southern <a href=\"/wiki/Colorado\" title=\"Colorado\">Colorado</a>.<sup class=\"reference\" id=\"cite_ref-27\"><a href=\"#cite_note-27\"><span class=\"cite-bracket\">[</span>27<span class=\"cite-bracket\">]</span></a></sup><sup class=\"reference\" id=\"cite_ref-28\"><a href=\"#cite_note-28\"><span class=\"cite-bracket\">[</span>28<span class=\"cite-bracket\">]</span></a></sup>\n",
      "</td>]\n"
     ]
    }
   ],
   "source": [
    "col_data = tables_needed.find_all('tr')   #selecting all rows of the table\n",
    "for row_data in col_data[1:]:             #Looping through col_data to select all data of the table cells\n",
    "    r_info = row_data.find_all('td')\n",
    "    individual_row_data = [r.text.strip() for r in r_info[:5]]   #each row value till index 4 stored in the list individual_row_data\n",
    "    print(individual_row_data)"
   ]
  }
 ],
 "metadata": {
  "kernelspec": {
   "display_name": "Python 3",
   "language": "python",
   "name": "python3"
  },
  "language_info": {
   "codemirror_mode": {
    "name": "ipython",
    "version": 3
   },
   "file_extension": ".py",
   "mimetype": "text/x-python",
   "name": "python",
   "nbconvert_exporter": "python",
   "pygments_lexer": "ipython3",
   "version": "3.11.4"
  }
 },
 "nbformat": 4,
 "nbformat_minor": 2
}
